{
  "cells": [
    {
      "cell_type": "code",
      "execution_count": 1,
      "metadata": {
        "id": "bmiaaE2OH0n9"
      },
      "outputs": [],
      "source": [
        "import pickle\n",
        "import pandas as pd\n",
        "from sklearn import preprocessing\n",
        "from sklearn.model_selection import GridSearchCV\n",
        "from sklearn.linear_model import LogisticRegression\n",
        "from sklearn.feature_extraction.text import TfidfVectorizer"
      ]
    },
    {
      "cell_type": "code",
      "execution_count": 3,
      "metadata": {
        "colab": {
          "base_uri": "https://localhost:8080/",
          "height": 676
        },
        "id": "2xfLjPQdIlFZ",
        "outputId": "5d4d629a-970e-48a0-cdd0-7b300bff16a4"
      },
      "outputs": [
        {
          "data": {
            "text/html": [
              "<div>\n",
              "<style scoped>\n",
              "    .dataframe tbody tr th:only-of-type {\n",
              "        vertical-align: middle;\n",
              "    }\n",
              "\n",
              "    .dataframe tbody tr th {\n",
              "        vertical-align: top;\n",
              "    }\n",
              "\n",
              "    .dataframe thead th {\n",
              "        text-align: right;\n",
              "    }\n",
              "</style>\n",
              "<table border=\"1\" class=\"dataframe\">\n",
              "  <thead>\n",
              "    <tr style=\"text-align: right;\">\n",
              "      <th></th>\n",
              "      <th>request</th>\n",
              "      <th>response</th>\n",
              "    </tr>\n",
              "  </thead>\n",
              "  <tbody>\n",
              "    <tr>\n",
              "      <th>6</th>\n",
              "      <td>ola</td>\n",
              "      <td>hola</td>\n",
              "    </tr>\n",
              "    <tr>\n",
              "      <th>17</th>\n",
              "      <td>Adios</td>\n",
              "      <td>adíos</td>\n",
              "    </tr>\n",
              "    <tr>\n",
              "      <th>97</th>\n",
              "      <td>CHIAO</td>\n",
              "      <td>hasta la proxima</td>\n",
              "    </tr>\n",
              "    <tr>\n",
              "      <th>62</th>\n",
              "      <td>Donde estan unbicados</td>\n",
              "      <td>Medellin, Bogota</td>\n",
              "    </tr>\n",
              "    <tr>\n",
              "      <th>72</th>\n",
              "      <td>púedo pedir domicilio</td>\n",
              "      <td>nos compartes la direccion</td>\n",
              "    </tr>\n",
              "    <tr>\n",
              "      <th>49</th>\n",
              "      <td>tienen descuentos</td>\n",
              "      <td>revisa en nuestra campañas</td>\n",
              "    </tr>\n",
              "    <tr>\n",
              "      <th>87</th>\n",
              "      <td>robotina</td>\n",
              "      <td>en que puedo ayudarte</td>\n",
              "    </tr>\n",
              "    <tr>\n",
              "      <th>46</th>\n",
              "      <td>Gracias por la ayuda</td>\n",
              "      <td>un placer ayudarte</td>\n",
              "    </tr>\n",
              "    <tr>\n",
              "      <th>78</th>\n",
              "      <td>NOS VEMOS DESPUES</td>\n",
              "      <td>hasta la proxima</td>\n",
              "    </tr>\n",
              "    <tr>\n",
              "      <th>84</th>\n",
              "      <td>biencito</td>\n",
              "      <td>bien, ¿cuentame en que te puedo ayudar</td>\n",
              "    </tr>\n",
              "    <tr>\n",
              "      <th>70</th>\n",
              "      <td>Puedo pedir domiciilio</td>\n",
              "      <td>nos compartes la direccion</td>\n",
              "    </tr>\n",
              "    <tr>\n",
              "      <th>98</th>\n",
              "      <td>chiao</td>\n",
              "      <td>hasta la proxima</td>\n",
              "    </tr>\n",
              "    <tr>\n",
              "      <th>89</th>\n",
              "      <td>ROBOTINA</td>\n",
              "      <td>en que puedo ayudarte</td>\n",
              "    </tr>\n",
              "    <tr>\n",
              "      <th>21</th>\n",
              "      <td>¿Cómo estás?</td>\n",
              "      <td>Bien gracias por preguntar, en que te puedo ay...</td>\n",
              "    </tr>\n",
              "    <tr>\n",
              "      <th>51</th>\n",
              "      <td>donde estan ubicados</td>\n",
              "      <td>Medellin, Bogota</td>\n",
              "    </tr>\n",
              "    <tr>\n",
              "      <th>44</th>\n",
              "      <td>¿Me puedes ayudar?</td>\n",
              "      <td>en que puedo ayudarte</td>\n",
              "    </tr>\n",
              "    <tr>\n",
              "      <th>33</th>\n",
              "      <td>como funciona</td>\n",
              "      <td>Solo dime que necesitas</td>\n",
              "    </tr>\n",
              "    <tr>\n",
              "      <th>53</th>\n",
              "      <td>¿donde estan ubicados?</td>\n",
              "      <td>Medellin, Bogota</td>\n",
              "    </tr>\n",
              "    <tr>\n",
              "      <th>16</th>\n",
              "      <td>Suerte</td>\n",
              "      <td>adíos</td>\n",
              "    </tr>\n",
              "    <tr>\n",
              "      <th>90</th>\n",
              "      <td>RoBotINA</td>\n",
              "      <td>en que puedo ayudarte</td>\n",
              "    </tr>\n",
              "  </tbody>\n",
              "</table>\n",
              "</div>"
            ],
            "text/plain": [
              "                   request                                           response\n",
              "6                      ola                                               hola\n",
              "17                   Adios                                              adíos\n",
              "97                   CHIAO                                  hasta la proxima \n",
              "62   Donde estan unbicados                                   Medellin, Bogota\n",
              "72   púedo pedir domicilio                         nos compartes la direccion\n",
              "49       tienen descuentos                         revisa en nuestra campañas\n",
              "87                robotina                              en que puedo ayudarte\n",
              "46    Gracias por la ayuda                                 un placer ayudarte\n",
              "78      NOS VEMOS DESPUES                                   hasta la proxima \n",
              "84                biencito            bien, ¿cuentame en que te puedo ayudar \n",
              "70  Puedo pedir domiciilio                         nos compartes la direccion\n",
              "98                   chiao                                  hasta la proxima \n",
              "89                ROBOTINA                              en que puedo ayudarte\n",
              "21           ¿Cómo estás?   Bien gracias por preguntar, en que te puedo ay...\n",
              "51    donde estan ubicados                                   Medellin, Bogota\n",
              "44      ¿Me puedes ayudar?                              en que puedo ayudarte\n",
              "33           como funciona                            Solo dime que necesitas\n",
              "53  ¿donde estan ubicados?                                   Medellin, Bogota\n",
              "16                  Suerte                                              adíos\n",
              "90                RoBotINA                              en que puedo ayudarte"
            ]
          },
          "execution_count": 3,
          "metadata": {},
          "output_type": "execute_result"
        }
      ],
      "source": [
        "# \" LOAD DATA BASE\"\n",
        "dataset = 'data.xlsx'\n",
        "knowledge_base = pd.read_excel(dataset)\n",
        "knowledge_base.sample(n=20).head(20)"
      ]
    },
    {
      "cell_type": "code",
      "execution_count": 4,
      "metadata": {
        "colab": {
          "base_uri": "https://localhost:8080/"
        },
        "id": "zaTxvPBjJ1en",
        "outputId": "391ffaad-8f2c-4d93-f952-aa4ef66dd1c9"
      },
      "outputs": [
        {
          "data": {
            "text/plain": [
              "array(['hola', 'buenas', 'buenas  tardes', 'buenas noches', 'Buenos dias',\n",
              "       'Hola', 'adiós ', 'ten buen día', 'bye', 'adíos',\n",
              "       'Bien gracias por preguntar, en que te puedo ayudar',\n",
              "       'Hola soy robotina tu asistente virtual',\n",
              "       'Estoy disponible para lo que necesites', 'Hola soy robotina',\n",
              "       'Solo dime que necesitas', 'Que necesitas que funcione',\n",
              "       'en que puedo ayudarte', 'un placer ayudarte', 'cuales necesitan',\n",
              "       'depende de la transportadora ', 'revisa en nuestra campañas',\n",
              "       'Medellin, Bogota', 'todo lo publicamos en nuestra web',\n",
              "       'nos compartes la direccion', 'hasta la proxima ',\n",
              "       'bien, ¿cuentame en que te puedo ayudar ', 'en español por favor',\n",
              "       'Mi nombre es robotina en que puedo ayudarte'], dtype=object)"
            ]
          },
          "execution_count": 4,
          "metadata": {},
          "output_type": "execute_result"
        }
      ],
      "source": [
        "knowledge_base[\"response\"].unique()"
      ]
    },
    {
      "cell_type": "code",
      "execution_count": 5,
      "metadata": {
        "colab": {
          "base_uri": "https://localhost:8080/"
        },
        "id": "0qU1WevtJSKw",
        "outputId": "05dc3916-c3d1-460b-9a5c-5ebdd2cd2dd3"
      },
      "outputs": [
        {
          "data": {
            "text/plain": [
              "99"
            ]
          },
          "execution_count": 5,
          "metadata": {},
          "output_type": "execute_result"
        }
      ],
      "source": [
        "len(knowledge_base)"
      ]
    },
    {
      "cell_type": "code",
      "execution_count": 6,
      "metadata": {
        "colab": {
          "base_uri": "https://localhost:8080/"
        },
        "id": "mmsH-Rj7KGJ_",
        "outputId": "59debe01-830d-4953-eb0a-4bad4539f9ef"
      },
      "outputs": [
        {
          "data": {
            "text/plain": [
              "array([22, 22, 13, 14, 15,  1, 22, 22, 22, 22,  3,  3, 10, 10, 25, 16, 11,\n",
              "       11,  0,  0,  0,  0,  0,  0,  0,  5,  2,  4,  4,  4,  4,  4,  9,  9,\n",
              "        9,  9,  9,  9,  9,  9,  0,  8,  0,  0, 20, 20, 27, 17, 18, 24, 24,\n",
              "        6,  6,  6, 26, 26, 26,  3,  3, 27, 22,  3,  6,  6, 20, 20,  9,  9,\n",
              "       26, 23, 23, 23, 23, 27, 27, 27, 21, 21, 21, 21, 12, 12, 12, 12, 12,\n",
              "       12, 19, 20, 20, 20, 20,  7,  7,  7, 21, 21, 21, 21, 21])"
            ]
          },
          "execution_count": 6,
          "metadata": {},
          "output_type": "execute_result"
        }
      ],
      "source": [
        "# label encode the target variable to transform non-numerical labels\n",
        "encoder = preprocessing.LabelEncoder()\n",
        "y = encoder.fit_transform(knowledge_base[\"response\"])  # numerical labels\n",
        "y"
      ]
    },
    {
      "cell_type": "code",
      "execution_count": 7,
      "metadata": {
        "colab": {
          "base_uri": "https://localhost:8080/"
        },
        "id": "iWN5nN_hKTsO",
        "outputId": "696ec0cc-e23f-4326-b1f9-55527bea207f"
      },
      "outputs": [
        {
          "data": {
            "text/plain": [
              "array(['Bien gracias por preguntar, en que te puedo ayudar',\n",
              "       'Buenos dias', 'Estoy disponible para lo que necesites', 'Hola',\n",
              "       'Hola soy robotina', 'Hola soy robotina tu asistente virtual',\n",
              "       'Medellin, Bogota', 'Mi nombre es robotina en que puedo ayudarte',\n",
              "       'Que necesitas que funcione', 'Solo dime que necesitas', 'adiós ',\n",
              "       'adíos', 'bien, ¿cuentame en que te puedo ayudar ', 'buenas',\n",
              "       'buenas  tardes', 'buenas noches', 'bye', 'cuales necesitan',\n",
              "       'depende de la transportadora ', 'en español por favor',\n",
              "       'en que puedo ayudarte', 'hasta la proxima ', 'hola',\n",
              "       'nos compartes la direccion', 'revisa en nuestra campañas',\n",
              "       'ten buen día', 'todo lo publicamos en nuestra web',\n",
              "       'un placer ayudarte'], dtype=object)"
            ]
          },
          "execution_count": 7,
          "metadata": {},
          "output_type": "execute_result"
        }
      ],
      "source": [
        "intent_names = encoder.classes_\n",
        "intent_names"
      ]
    },
    {
      "cell_type": "code",
      "execution_count": 8,
      "metadata": {
        "colab": {
          "base_uri": "https://localhost:8080/"
        },
        "id": "ru88UFjVMG2u",
        "outputId": "af304648-d7c0-417f-849f-5c3ff4cde5e8"
      },
      "outputs": [
        {
          "data": {
            "text/plain": [
              "0                  hola\n",
              "1                    hi\n",
              "2                buenas\n",
              "3         buenas tardes\n",
              "4         buenas noches\n",
              "            ...        \n",
              "94     HASTA LA PRÓXIMA\n",
              "95    hásta la proxima \n",
              "96                 CHAO\n",
              "97                CHIAO\n",
              "98                chiao\n",
              "Name: request, Length: 99, dtype: object"
            ]
          },
          "execution_count": 8,
          "metadata": {},
          "output_type": "execute_result"
        }
      ],
      "source": [
        "x = knowledge_base[\"request\"]\n",
        "x"
      ]
    },
    {
      "cell_type": "code",
      "execution_count": 11,
      "metadata": {
        "id": "KjZmehuLcOYw"
      },
      "outputs": [],
      "source": [
        "from sklearn.model_selection import train_test_split\n",
        "# Hold-out Partition\n",
        "X_train, X_test, y_train, y_test = train_test_split(x, y,\n",
        "                                                    random_state=0)\n",
        "\n",
        "# PROCESAMIENTO\n",
        "\n",
        "## ...."
      ]
    },
    {
      "cell_type": "code",
      "execution_count": 12,
      "metadata": {
        "colab": {
          "base_uri": "https://localhost:8080/"
        },
        "id": "zye2w8hOKeLY",
        "outputId": "c8230aef-d1e7-431f-841c-d1675119b870"
      },
      "outputs": [
        {
          "data": {
            "text/plain": [
              "<74x71 sparse matrix of type '<class 'numpy.float64'>'\n",
              "\twith 150 stored elements in Compressed Sparse Row format>"
            ]
          },
          "execution_count": 12,
          "metadata": {},
          "output_type": "execute_result"
        }
      ],
      "source": [
        "\" TF-IDF score represents the relative importance of a term in the document and the entire corpus. \"\n",
        "tfidf_vect = TfidfVectorizer()\n",
        "tfidf_vect.fit(X_train)\n",
        "x_train_tfidf = tfidf_vect.transform(X_train)\n",
        "x_train_tfidf"
      ]
    },
    {
      "cell_type": "code",
      "execution_count": 13,
      "metadata": {
        "colab": {
          "base_uri": "https://localhost:8080/"
        },
        "id": "Cb-8UAayVA4F",
        "outputId": "7b2b7023-aebd-47f1-cb1f-d0a59f087869"
      },
      "outputs": [
        {
          "data": {
            "text/plain": [
              "array(['adios', 'ayuda', 'ayudar', 'bien', 'biencito', 'biensito', 'bot',\n",
              "       'buenas', 'buenos', 'bye', 'chao', 'chiao', 'cmo', 'como',\n",
              "       'compro', 'comó', 'con', 'cuanto', 'cómo', 'demora', 'depues',\n",
              "       'descuentos', 'despúes', 'dias', 'domiciilio', 'domicilio',\n",
              "       'donde', 'eres', 'estan', 'estas', 'estás', 'ey', 'funciona',\n",
              "       'gracias', 'hasta', 'hay', 'hello', 'hi', 'hola', 'hooooooola',\n",
              "       'hásta', 'la', 'llamas', 'luego', 'mas', 'me', 'muchas', 'nbiem',\n",
              "       'noches', 'nos', 'oe', 'ola', 'olaaaaa', 'ooooola', 'pedir', 'por',\n",
              "       'productos', 'proxima', 'puedes', 'puedo', 'púedo', 'que', 'quién',\n",
              "       'robotina', 'si', 'te', 'tienen', 'ubicados', 'ustedes', 'vas',\n",
              "       'vemos'], dtype=object)"
            ]
          },
          "execution_count": 13,
          "metadata": {},
          "output_type": "execute_result"
        }
      ],
      "source": [
        "tfidf_vect.get_feature_names_out()"
      ]
    },
    {
      "cell_type": "code",
      "execution_count": 14,
      "metadata": {
        "colab": {
          "base_uri": "https://localhost:8080/"
        },
        "id": "lDnAhHtbNI3l",
        "outputId": "ddaa1c01-ff6b-41d5-e6f0-eb421fb7550f"
      },
      "outputs": [
        {
          "name": "stderr",
          "output_type": "stream",
          "text": [
            "/home/jonat/.local/lib/python3.8/site-packages/sklearn/model_selection/_split.py:684: UserWarning: The least populated class in y has only 1 members, which is less than n_splits=5.\n",
            "  warnings.warn(\n",
            "/home/jonat/.local/lib/python3.8/site-packages/sklearn/linear_model/_logistic.py:444: ConvergenceWarning: lbfgs failed to converge (status=1):\n",
            "STOP: TOTAL NO. of ITERATIONS REACHED LIMIT.\n",
            "\n",
            "Increase the number of iterations (max_iter) or scale the data as shown in:\n",
            "    https://scikit-learn.org/stable/modules/preprocessing.html\n",
            "Please also refer to the documentation for alternative solver options:\n",
            "    https://scikit-learn.org/stable/modules/linear_model.html#logistic-regression\n",
            "  n_iter_i = _check_optimize_result(\n",
            "/home/jonat/.local/lib/python3.8/site-packages/sklearn/linear_model/_logistic.py:444: ConvergenceWarning: lbfgs failed to converge (status=1):\n",
            "STOP: TOTAL NO. of ITERATIONS REACHED LIMIT.\n",
            "\n",
            "Increase the number of iterations (max_iter) or scale the data as shown in:\n",
            "    https://scikit-learn.org/stable/modules/preprocessing.html\n",
            "Please also refer to the documentation for alternative solver options:\n",
            "    https://scikit-learn.org/stable/modules/linear_model.html#logistic-regression\n",
            "  n_iter_i = _check_optimize_result(\n"
          ]
        },
        {
          "data": {
            "text/html": [
              "<style>#sk-container-id-1 {color: black;background-color: white;}#sk-container-id-1 pre{padding: 0;}#sk-container-id-1 div.sk-toggleable {background-color: white;}#sk-container-id-1 label.sk-toggleable__label {cursor: pointer;display: block;width: 100%;margin-bottom: 0;padding: 0.3em;box-sizing: border-box;text-align: center;}#sk-container-id-1 label.sk-toggleable__label-arrow:before {content: \"▸\";float: left;margin-right: 0.25em;color: #696969;}#sk-container-id-1 label.sk-toggleable__label-arrow:hover:before {color: black;}#sk-container-id-1 div.sk-estimator:hover label.sk-toggleable__label-arrow:before {color: black;}#sk-container-id-1 div.sk-toggleable__content {max-height: 0;max-width: 0;overflow: hidden;text-align: left;background-color: #f0f8ff;}#sk-container-id-1 div.sk-toggleable__content pre {margin: 0.2em;color: black;border-radius: 0.25em;background-color: #f0f8ff;}#sk-container-id-1 input.sk-toggleable__control:checked~div.sk-toggleable__content {max-height: 200px;max-width: 100%;overflow: auto;}#sk-container-id-1 input.sk-toggleable__control:checked~label.sk-toggleable__label-arrow:before {content: \"▾\";}#sk-container-id-1 div.sk-estimator input.sk-toggleable__control:checked~label.sk-toggleable__label {background-color: #d4ebff;}#sk-container-id-1 div.sk-label input.sk-toggleable__control:checked~label.sk-toggleable__label {background-color: #d4ebff;}#sk-container-id-1 input.sk-hidden--visually {border: 0;clip: rect(1px 1px 1px 1px);clip: rect(1px, 1px, 1px, 1px);height: 1px;margin: -1px;overflow: hidden;padding: 0;position: absolute;width: 1px;}#sk-container-id-1 div.sk-estimator {font-family: monospace;background-color: #f0f8ff;border: 1px dotted black;border-radius: 0.25em;box-sizing: border-box;margin-bottom: 0.5em;}#sk-container-id-1 div.sk-estimator:hover {background-color: #d4ebff;}#sk-container-id-1 div.sk-parallel-item::after {content: \"\";width: 100%;border-bottom: 1px solid gray;flex-grow: 1;}#sk-container-id-1 div.sk-label:hover label.sk-toggleable__label {background-color: #d4ebff;}#sk-container-id-1 div.sk-serial::before {content: \"\";position: absolute;border-left: 1px solid gray;box-sizing: border-box;top: 0;bottom: 0;left: 50%;z-index: 0;}#sk-container-id-1 div.sk-serial {display: flex;flex-direction: column;align-items: center;background-color: white;padding-right: 0.2em;padding-left: 0.2em;position: relative;}#sk-container-id-1 div.sk-item {position: relative;z-index: 1;}#sk-container-id-1 div.sk-parallel {display: flex;align-items: stretch;justify-content: center;background-color: white;position: relative;}#sk-container-id-1 div.sk-item::before, #sk-container-id-1 div.sk-parallel-item::before {content: \"\";position: absolute;border-left: 1px solid gray;box-sizing: border-box;top: 0;bottom: 0;left: 50%;z-index: -1;}#sk-container-id-1 div.sk-parallel-item {display: flex;flex-direction: column;z-index: 1;position: relative;background-color: white;}#sk-container-id-1 div.sk-parallel-item:first-child::after {align-self: flex-end;width: 50%;}#sk-container-id-1 div.sk-parallel-item:last-child::after {align-self: flex-start;width: 50%;}#sk-container-id-1 div.sk-parallel-item:only-child::after {width: 0;}#sk-container-id-1 div.sk-dashed-wrapped {border: 1px dashed gray;margin: 0 0.4em 0.5em 0.4em;box-sizing: border-box;padding-bottom: 0.4em;background-color: white;}#sk-container-id-1 div.sk-label label {font-family: monospace;font-weight: bold;display: inline-block;line-height: 1.2em;}#sk-container-id-1 div.sk-label-container {text-align: center;}#sk-container-id-1 div.sk-container {/* jupyter's `normalize.less` sets `[hidden] { display: none; }` but bootstrap.min.css set `[hidden] { display: none !important; }` so we also need the `!important` here to be able to override the default hidden behavior on the sphinx rendered scikit-learn.org. See: https://github.com/scikit-learn/scikit-learn/issues/21755 */display: inline-block !important;position: relative;}#sk-container-id-1 div.sk-text-repr-fallback {display: none;}</style><div id=\"sk-container-id-1\" class=\"sk-top-container\"><div class=\"sk-text-repr-fallback\"><pre>GridSearchCV(cv=5, estimator=LogisticRegression(),\n",
              "             param_grid={&#x27;C&#x27;: [0.001, 0.1, 0.1, 10, 100, 1000]},\n",
              "             scoring=&#x27;accuracy&#x27;)</pre><b>In a Jupyter environment, please rerun this cell to show the HTML representation or trust the notebook. <br />On GitHub, the HTML representation is unable to render, please try loading this page with nbviewer.org.</b></div><div class=\"sk-container\" hidden><div class=\"sk-item sk-dashed-wrapped\"><div class=\"sk-label-container\"><div class=\"sk-label sk-toggleable\"><input class=\"sk-toggleable__control sk-hidden--visually\" id=\"sk-estimator-id-1\" type=\"checkbox\" ><label for=\"sk-estimator-id-1\" class=\"sk-toggleable__label sk-toggleable__label-arrow\">GridSearchCV</label><div class=\"sk-toggleable__content\"><pre>GridSearchCV(cv=5, estimator=LogisticRegression(),\n",
              "             param_grid={&#x27;C&#x27;: [0.001, 0.1, 0.1, 10, 100, 1000]},\n",
              "             scoring=&#x27;accuracy&#x27;)</pre></div></div></div><div class=\"sk-parallel\"><div class=\"sk-parallel-item\"><div class=\"sk-item\"><div class=\"sk-label-container\"><div class=\"sk-label sk-toggleable\"><input class=\"sk-toggleable__control sk-hidden--visually\" id=\"sk-estimator-id-2\" type=\"checkbox\" ><label for=\"sk-estimator-id-2\" class=\"sk-toggleable__label sk-toggleable__label-arrow\">estimator: LogisticRegression</label><div class=\"sk-toggleable__content\"><pre>LogisticRegression()</pre></div></div></div><div class=\"sk-serial\"><div class=\"sk-item\"><div class=\"sk-estimator sk-toggleable\"><input class=\"sk-toggleable__control sk-hidden--visually\" id=\"sk-estimator-id-3\" type=\"checkbox\" ><label for=\"sk-estimator-id-3\" class=\"sk-toggleable__label sk-toggleable__label-arrow\">LogisticRegression</label><div class=\"sk-toggleable__content\"><pre>LogisticRegression()</pre></div></div></div></div></div></div></div></div></div></div>"
            ],
            "text/plain": [
              "GridSearchCV(cv=5, estimator=LogisticRegression(),\n",
              "             param_grid={'C': [0.001, 0.1, 0.1, 10, 100, 1000]},\n",
              "             scoring='accuracy')"
            ]
          },
          "execution_count": 14,
          "metadata": {},
          "output_type": "execute_result"
        }
      ],
      "source": [
        "\" MODEL TRAINING AND DEVELOPMENT\"\n",
        "nfolds = 5\n",
        "tuned_parameters = {'C': [0.001, 0.10, 0.1, 10, 100, 1000]}\n",
        "lr_model = GridSearchCV(LogisticRegression(), tuned_parameters, cv=nfolds,  scoring='accuracy') \n",
        "lr_model.fit(x_train_tfidf, y_train)"
      ]
    },
    {
      "cell_type": "code",
      "execution_count": 15,
      "metadata": {
        "colab": {
          "base_uri": "https://localhost:8080/",
          "height": 237
        },
        "id": "9smMZTOLn3dw",
        "outputId": "55408a07-9f09-417f-ddf8-dea8d62aada9"
      },
      "outputs": [
        {
          "data": {
            "text/html": [
              "<div>\n",
              "<style scoped>\n",
              "    .dataframe tbody tr th:only-of-type {\n",
              "        vertical-align: middle;\n",
              "    }\n",
              "\n",
              "    .dataframe tbody tr th {\n",
              "        vertical-align: top;\n",
              "    }\n",
              "\n",
              "    .dataframe thead th {\n",
              "        text-align: right;\n",
              "    }\n",
              "</style>\n",
              "<table border=\"1\" class=\"dataframe\">\n",
              "  <thead>\n",
              "    <tr style=\"text-align: right;\">\n",
              "      <th></th>\n",
              "      <th>C</th>\n",
              "      <th>Mean</th>\n",
              "      <th>STD</th>\n",
              "    </tr>\n",
              "  </thead>\n",
              "  <tbody>\n",
              "    <tr>\n",
              "      <th>0</th>\n",
              "      <td>0.001</td>\n",
              "      <td>0.121905</td>\n",
              "      <td>0.027864</td>\n",
              "    </tr>\n",
              "    <tr>\n",
              "      <th>1</th>\n",
              "      <td>0.100</td>\n",
              "      <td>0.189524</td>\n",
              "      <td>0.050968</td>\n",
              "    </tr>\n",
              "    <tr>\n",
              "      <th>2</th>\n",
              "      <td>0.100</td>\n",
              "      <td>0.189524</td>\n",
              "      <td>0.050968</td>\n",
              "    </tr>\n",
              "    <tr>\n",
              "      <th>3</th>\n",
              "      <td>10.000</td>\n",
              "      <td>0.638095</td>\n",
              "      <td>0.120166</td>\n",
              "    </tr>\n",
              "    <tr>\n",
              "      <th>4</th>\n",
              "      <td>100.000</td>\n",
              "      <td>0.651429</td>\n",
              "      <td>0.111164</td>\n",
              "    </tr>\n",
              "    <tr>\n",
              "      <th>5</th>\n",
              "      <td>1000.000</td>\n",
              "      <td>0.637143</td>\n",
              "      <td>0.085417</td>\n",
              "    </tr>\n",
              "  </tbody>\n",
              "</table>\n",
              "</div>"
            ],
            "text/plain": [
              "          C      Mean       STD\n",
              "0     0.001  0.121905  0.027864\n",
              "1     0.100  0.189524  0.050968\n",
              "2     0.100  0.189524  0.050968\n",
              "3    10.000  0.638095  0.120166\n",
              "4   100.000  0.651429  0.111164\n",
              "5  1000.000  0.637143  0.085417"
            ]
          },
          "execution_count": 15,
          "metadata": {},
          "output_type": "execute_result"
        }
      ],
      "source": [
        "means = lr_model.cv_results_['mean_test_score']\n",
        "stds = lr_model.cv_results_['std_test_score']\n",
        "parameters = lr_model.cv_results_['params']\n",
        "results = pd.concat((pd.DataFrame.from_dict(parameters), pd.DataFrame(means, columns=['Mean']), pd.DataFrame(stds, columns=['STD'])), axis=1)\n",
        "results"
      ]
    },
    {
      "cell_type": "code",
      "execution_count": 16,
      "metadata": {
        "colab": {
          "base_uri": "https://localhost:8080/"
        },
        "id": "bgtWz7UVpCzu",
        "outputId": "41cf9890-a19f-412f-9c77-9c9006df9dad"
      },
      "outputs": [
        {
          "data": {
            "text/plain": [
              "100"
            ]
          },
          "execution_count": 16,
          "metadata": {},
          "output_type": "execute_result"
        }
      ],
      "source": [
        "best_c = lr_model.cv_results_['params'][lr_model.best_index_]['C']\n",
        "best_c"
      ]
    },
    {
      "cell_type": "code",
      "execution_count": 17,
      "metadata": {
        "id": "9k8ia4qOhD4Z"
      },
      "outputs": [],
      "source": [
        "# TEST & METRICS & ERROR ANALYSIS\n",
        "\n",
        "best_lr_model = LogisticRegression(C=best_c).fit(x_train_tfidf, y_train)"
      ]
    },
    {
      "cell_type": "code",
      "execution_count": 18,
      "metadata": {
        "colab": {
          "base_uri": "https://localhost:8080/"
        },
        "id": "TLFoWG4Vge7a",
        "outputId": "365c85e8-99b9-4635-a685-740e7ec3ca26"
      },
      "outputs": [
        {
          "data": {
            "text/plain": [
              "26                  ¿Qué haces?\n",
              "86                 Well and you\n",
              "2                        buenas\n",
              "55    que mas productos tienen?\n",
              "75                      gracias\n",
              "Name: request, dtype: object"
            ]
          },
          "execution_count": 18,
          "metadata": {},
          "output_type": "execute_result"
        }
      ],
      "source": [
        "X_test.head()"
      ]
    },
    {
      "cell_type": "code",
      "execution_count": 19,
      "metadata": {
        "id": "xGPAHkLQgliE"
      },
      "outputs": [],
      "source": [
        "# PROCESAMIENTO DEL CONJUNTO DE TEST"
      ]
    },
    {
      "cell_type": "code",
      "execution_count": 20,
      "metadata": {
        "colab": {
          "base_uri": "https://localhost:8080/"
        },
        "id": "j1ZqJuEYTT8Z",
        "outputId": "5bd427ce-5a76-4df1-c668-40d94efe5b4f"
      },
      "outputs": [
        {
          "data": {
            "text/plain": [
              "<25x71 sparse matrix of type '<class 'numpy.float64'>'\n",
              "\twith 40 stored elements in Compressed Sparse Row format>"
            ]
          },
          "execution_count": 20,
          "metadata": {},
          "output_type": "execute_result"
        }
      ],
      "source": [
        "x_test_tfidf = tfidf_vect.transform(X_test)\n",
        "x_test_tfidf"
      ]
    },
    {
      "cell_type": "code",
      "execution_count": 21,
      "metadata": {
        "id": "ki2ai781VgpX"
      },
      "outputs": [],
      "source": [
        "y_pred = best_lr_model.predict(x_test_tfidf)"
      ]
    },
    {
      "cell_type": "code",
      "execution_count": 22,
      "metadata": {
        "colab": {
          "base_uri": "https://localhost:8080/",
          "height": 296
        },
        "id": "te2R1WCZThFg",
        "outputId": "177df0a8-f7a5-49ba-a6d6-09d9e8c28235"
      },
      "outputs": [
        {
          "data": {
            "text/plain": [
              "<sklearn.metrics._plot.confusion_matrix.ConfusionMatrixDisplay at 0x7fdbcea03460>"
            ]
          },
          "execution_count": 22,
          "metadata": {},
          "output_type": "execute_result"
        },
        {
          "data": {
            "image/png": "[encoded data removed]",
            "text/plain": [
              "<Figure size 640x480 with 2 Axes>"
            ]
          },
          "metadata": {},
          "output_type": "display_data"
        }
      ],
      "source": [
        "from sklearn.metrics import confusion_matrix, ConfusionMatrixDisplay, classification_report\n",
        "cm = confusion_matrix(y_test, y_pred)\n",
        "disp = ConfusionMatrixDisplay(confusion_matrix=cm)\n",
        "disp.plot()"
      ]
    },
    {
      "cell_type": "code",
      "execution_count": 23,
      "metadata": {
        "colab": {
          "base_uri": "https://localhost:8080/"
        },
        "id": "RUm7RSLXT4Jp",
        "outputId": "f2e85dca-2b3d-4941-82de-79b13361b6a7"
      },
      "outputs": [
        {
          "name": "stdout",
          "output_type": "stream",
          "text": [
            "              precision    recall  f1-score   support\n",
            "\n",
            "           0       1.00      1.00      1.00         3\n",
            "           2       0.00      0.00      0.00         1\n",
            "           3       0.00      0.00      0.00         0\n",
            "           4       1.00      1.00      1.00         1\n",
            "           6       1.00      1.00      1.00         2\n",
            "           7       1.00      0.50      0.67         2\n",
            "           9       1.00      1.00      1.00         1\n",
            "          10       0.00      0.00      0.00         1\n",
            "          11       0.00      0.00      0.00         1\n",
            "          12       0.00      0.00      0.00         0\n",
            "          13       0.00      0.00      0.00         1\n",
            "          14       0.00      0.00      0.00         1\n",
            "          15       0.00      0.00      0.00         0\n",
            "          19       0.00      0.00      0.00         1\n",
            "          20       1.00      1.00      1.00         1\n",
            "          21       0.50      0.50      0.50         2\n",
            "          22       0.20      0.50      0.29         2\n",
            "          23       1.00      1.00      1.00         1\n",
            "          25       0.00      0.00      0.00         0\n",
            "          26       1.00      1.00      1.00         2\n",
            "          27       1.00      0.50      0.67         2\n",
            "\n",
            "    accuracy                           0.60        25\n",
            "   macro avg       0.46      0.43      0.43        25\n",
            "weighted avg       0.66      0.60      0.61        25\n",
            "\n"
          ]
        },
        {
          "name": "stderr",
          "output_type": "stream",
          "text": [
            "/home/jonat/.local/lib/python3.8/site-packages/sklearn/metrics/_classification.py:1334: UndefinedMetricWarning: Precision and F-score are ill-defined and being set to 0.0 in labels with no predicted samples. Use `zero_division` parameter to control this behavior.\n",
            "  _warn_prf(average, modifier, msg_start, len(result))\n",
            "/home/jonat/.local/lib/python3.8/site-packages/sklearn/metrics/_classification.py:1334: UndefinedMetricWarning: Recall and F-score are ill-defined and being set to 0.0 in labels with no true samples. Use `zero_division` parameter to control this behavior.\n",
            "  _warn_prf(average, modifier, msg_start, len(result))\n",
            "/home/jonat/.local/lib/python3.8/site-packages/sklearn/metrics/_classification.py:1334: UndefinedMetricWarning: Precision and F-score are ill-defined and being set to 0.0 in labels with no predicted samples. Use `zero_division` parameter to control this behavior.\n",
            "  _warn_prf(average, modifier, msg_start, len(result))\n",
            "/home/jonat/.local/lib/python3.8/site-packages/sklearn/metrics/_classification.py:1334: UndefinedMetricWarning: Recall and F-score are ill-defined and being set to 0.0 in labels with no true samples. Use `zero_division` parameter to control this behavior.\n",
            "  _warn_prf(average, modifier, msg_start, len(result))\n",
            "/home/jonat/.local/lib/python3.8/site-packages/sklearn/metrics/_classification.py:1334: UndefinedMetricWarning: Precision and F-score are ill-defined and being set to 0.0 in labels with no predicted samples. Use `zero_division` parameter to control this behavior.\n",
            "  _warn_prf(average, modifier, msg_start, len(result))\n",
            "/home/jonat/.local/lib/python3.8/site-packages/sklearn/metrics/_classification.py:1334: UndefinedMetricWarning: Recall and F-score are ill-defined and being set to 0.0 in labels with no true samples. Use `zero_division` parameter to control this behavior.\n",
            "  _warn_prf(average, modifier, msg_start, len(result))\n"
          ]
        }
      ],
      "source": [
        "print(classification_report(y_test, y_pred))"
      ]
    },
    {
      "cell_type": "code",
      "execution_count": 24,
      "metadata": {
        "id": "YuOlroXRrwLd"
      },
      "outputs": [],
      "source": [
        "# TRAIN MODEL WITH ALL DATA FOR PRODUCTION\n",
        "tfidf_vect = TfidfVectorizer()\n",
        "tfidf_vect.fit(x)\n",
        "x_tfidf = tfidf_vect.transform(x)\n",
        "\n",
        "pdn_lr_model = LogisticRegression(C=best_c).fit(x_tfidf, y)"
      ]
    },
    {
      "cell_type": "code",
      "execution_count": 25,
      "metadata": {
        "colab": {
          "base_uri": "https://localhost:8080/"
        },
        "id": "DBMm0NbEiUsL",
        "outputId": "d4663cbb-b689-453b-b3e1-09704e91af00"
      },
      "outputs": [
        {
          "data": {
            "text/html": [
              "<style>#sk-container-id-2 {color: black;background-color: white;}#sk-container-id-2 pre{padding: 0;}#sk-container-id-2 div.sk-toggleable {background-color: white;}#sk-container-id-2 label.sk-toggleable__label {cursor: pointer;display: block;width: 100%;margin-bottom: 0;padding: 0.3em;box-sizing: border-box;text-align: center;}#sk-container-id-2 label.sk-toggleable__label-arrow:before {content: \"▸\";float: left;margin-right: 0.25em;color: #696969;}#sk-container-id-2 label.sk-toggleable__label-arrow:hover:before {color: black;}#sk-container-id-2 div.sk-estimator:hover label.sk-toggleable__label-arrow:before {color: black;}#sk-container-id-2 div.sk-toggleable__content {max-height: 0;max-width: 0;overflow: hidden;text-align: left;background-color: #f0f8ff;}#sk-container-id-2 div.sk-toggleable__content pre {margin: 0.2em;color: black;border-radius: 0.25em;background-color: #f0f8ff;}#sk-container-id-2 input.sk-toggleable__control:checked~div.sk-toggleable__content {max-height: 200px;max-width: 100%;overflow: auto;}#sk-container-id-2 input.sk-toggleable__control:checked~label.sk-toggleable__label-arrow:before {content: \"▾\";}#sk-container-id-2 div.sk-estimator input.sk-toggleable__control:checked~label.sk-toggleable__label {background-color: #d4ebff;}#sk-container-id-2 div.sk-label input.sk-toggleable__control:checked~label.sk-toggleable__label {background-color: #d4ebff;}#sk-container-id-2 input.sk-hidden--visually {border: 0;clip: rect(1px 1px 1px 1px);clip: rect(1px, 1px, 1px, 1px);height: 1px;margin: -1px;overflow: hidden;padding: 0;position: absolute;width: 1px;}#sk-container-id-2 div.sk-estimator {font-family: monospace;background-color: #f0f8ff;border: 1px dotted black;border-radius: 0.25em;box-sizing: border-box;margin-bottom: 0.5em;}#sk-container-id-2 div.sk-estimator:hover {background-color: #d4ebff;}#sk-container-id-2 div.sk-parallel-item::after {content: \"\";width: 100%;border-bottom: 1px solid gray;flex-grow: 1;}#sk-container-id-2 div.sk-label:hover label.sk-toggleable__label {background-color: #d4ebff;}#sk-container-id-2 div.sk-serial::before {content: \"\";position: absolute;border-left: 1px solid gray;box-sizing: border-box;top: 0;bottom: 0;left: 50%;z-index: 0;}#sk-container-id-2 div.sk-serial {display: flex;flex-direction: column;align-items: center;background-color: white;padding-right: 0.2em;padding-left: 0.2em;position: relative;}#sk-container-id-2 div.sk-item {position: relative;z-index: 1;}#sk-container-id-2 div.sk-parallel {display: flex;align-items: stretch;justify-content: center;background-color: white;position: relative;}#sk-container-id-2 div.sk-item::before, #sk-container-id-2 div.sk-parallel-item::before {content: \"\";position: absolute;border-left: 1px solid gray;box-sizing: border-box;top: 0;bottom: 0;left: 50%;z-index: -1;}#sk-container-id-2 div.sk-parallel-item {display: flex;flex-direction: column;z-index: 1;position: relative;background-color: white;}#sk-container-id-2 div.sk-parallel-item:first-child::after {align-self: flex-end;width: 50%;}#sk-container-id-2 div.sk-parallel-item:last-child::after {align-self: flex-start;width: 50%;}#sk-container-id-2 div.sk-parallel-item:only-child::after {width: 0;}#sk-container-id-2 div.sk-dashed-wrapped {border: 1px dashed gray;margin: 0 0.4em 0.5em 0.4em;box-sizing: border-box;padding-bottom: 0.4em;background-color: white;}#sk-container-id-2 div.sk-label label {font-family: monospace;font-weight: bold;display: inline-block;line-height: 1.2em;}#sk-container-id-2 div.sk-label-container {text-align: center;}#sk-container-id-2 div.sk-container {/* jupyter's `normalize.less` sets `[hidden] { display: none; }` but bootstrap.min.css set `[hidden] { display: none !important; }` so we also need the `!important` here to be able to override the default hidden behavior on the sphinx rendered scikit-learn.org. See: https://github.com/scikit-learn/scikit-learn/issues/21755 */display: inline-block !important;position: relative;}#sk-container-id-2 div.sk-text-repr-fallback {display: none;}</style><div id=\"sk-container-id-2\" class=\"sk-top-container\"><div class=\"sk-text-repr-fallback\"><pre>LogisticRegression(C=100)</pre><b>In a Jupyter environment, please rerun this cell to show the HTML representation or trust the notebook. <br />On GitHub, the HTML representation is unable to render, please try loading this page with nbviewer.org.</b></div><div class=\"sk-container\" hidden><div class=\"sk-item\"><div class=\"sk-estimator sk-toggleable\"><input class=\"sk-toggleable__control sk-hidden--visually\" id=\"sk-estimator-id-4\" type=\"checkbox\" checked><label for=\"sk-estimator-id-4\" class=\"sk-toggleable__label sk-toggleable__label-arrow\">LogisticRegression</label><div class=\"sk-toggleable__content\"><pre>LogisticRegression(C=100)</pre></div></div></div></div></div>"
            ],
            "text/plain": [
              "LogisticRegression(C=100)"
            ]
          },
          "execution_count": 25,
          "metadata": {},
          "output_type": "execute_result"
        }
      ],
      "source": [
        "pdn_lr_model"
      ]
    },
    {
      "cell_type": "code",
      "execution_count": 26,
      "metadata": {
        "id": "5-7JzLdkqre9"
      },
      "outputs": [],
      "source": [
        "# \"SAVE FINAL MODEL\"\n",
        "pickle.dump(pdn_lr_model, open('data.pkl', 'wb'))\n",
        "pickle.dump(tfidf_vect, open('vocabulary.pkl', 'wb'))\n",
        "pickle.dump(intent_names, open('tag_name.pkl', 'wb'))"
      ]
    }
  ],
  "metadata": {
    "colab": {
      "collapsed_sections": [],
      "provenance": []
    },
    "kernelspec": {
      "display_name": "Python 3.8.10 64-bit",
      "language": "python",
      "name": "python3"
    },
    "language_info": {
      "codemirror_mode": {
        "name": "ipython",
        "version": 3
      },
      "file_extension": ".py",
      "mimetype": "text/x-python",
      "name": "python",
      "nbconvert_exporter": "python",
      "pygments_lexer": "ipython3",
      "version": "3.8.10"
    },
    "vscode": {
      "interpreter": {
        "hash": "916dbcbb3f70747c44a77c7bcd40155683ae19c65e1c03b4aa3499c5328201f1"
      }
    }
  },
  "nbformat": 4,
  "nbformat_minor": 0
}
